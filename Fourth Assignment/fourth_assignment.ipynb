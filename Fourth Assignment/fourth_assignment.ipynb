{
 "cells": [
  {
   "cell_type": "code",
   "execution_count": 2,
   "metadata": {},
   "outputs": [],
   "source": [
    "import numpy as np\n",
    "import random\n",
    "import imageio\n",
    "import matplotlib.pyplot as plt\n",
    "%matplotlib inline"
   ]
  },
  {
   "cell_type": "code",
   "execution_count": 4,
   "metadata": {},
   "outputs": [],
   "source": [
    "# Implementation of a K-means algorithm for color image segmentation"
   ]
  },
  {
   "cell_type": "code",
   "execution_count": 469,
   "metadata": {},
   "outputs": [],
   "source": [
    "class fourth_assignment:\n",
    "\n",
    "    def __init__(self, filename, type_of_attribute, n_clusters, n_iterations, seed):\n",
    "        self.filename = filename\n",
    "        self.type_of_attribute = type_of_attribute\n",
    "        self.n_clusters = n_clusters\n",
    "        self.n_iterations = n_iterations\n",
    "        self.seed = seed\n",
    "\n",
    "    def __call__(self):\n",
    "        return self.kmeans()\n",
    "\n",
    "    def attribute_parser(self, image):\n",
    "\n",
    "        if self.type_of_attribute == 1: # (R,G,B)\n",
    "            RGB = np.array(image).reshape(image.shape[0]*image.shape[1], 3)\n",
    "\n",
    "        elif self.type_of_attribute == 2: # (R, G, B, x, y)\n",
    "            RGB = np.array(image).reshape(image.shape[0]*image.shape[1], 3)\n",
    "            x = np.array([i for i in range(image.shape[0]) for j in range(image.shape[1])]).reshape(image.shape[0]*image.shape[1],1)\n",
    "            y = np.array([j for i in range(image.shape[0]) for j in range(image.shape[1])]).reshape(image.shape[0]*image.shape[1],1)\n",
    "            axes = np.append(y, x, axis=1)\n",
    "            RGB = np.append(RGB, axes, axis=1)\n",
    "\n",
    "        elif self.type_of_attribute == 3: # (luminance)\n",
    "            luminance = []\n",
    "            for i in range(image.shape[0]):\n",
    "                for j in range(image.shape[1]):\n",
    "                    value = 0.299 * image[i,j,0] + 0.587 * image[i,j,1] + 0.114 * image[i,j,2]\n",
    "                    luminance.append(value)\n",
    "            RGB = np.array(luminance).reshape(image.shape[0]*image.shape[1],1)\n",
    "\n",
    "        elif self.type_of_attribute == 4: # (luminance, x, y)\n",
    "            luminance = []\n",
    "            for i in range(image.shape[0]):\n",
    "                for j in range(image.shape[1]):\n",
    "                    value = 0.299 * image[i,j,0] + 0.587 * image[i,j,1] + 0.114 * image[i,j,2]\n",
    "                    luminance.append(value)\n",
    "            RGB = np.array(luminance).reshape(image.shape[0]*image.shape[1],1)        \n",
    "            x = np.array([i for i in range(image.shape[0]) for j in range(image.shape[1])]).reshape(image.shape[0]*image.shape[1],1)\n",
    "            y = np.array([j for i in range(image.shape[0]) for j in range(image.shape[1])]).reshape(image.shape[0]*image.shape[1],1)\n",
    "            axes = np.append(y, x, axis=1)\n",
    "            RGB = np.append(RGB, axes, axis=1)\n",
    "\n",
    "        return RGB\n",
    "\n",
    "    def kmeans(self):\n",
    "\n",
    "        image_orig = imageio.imread(self.filename)\n",
    "\n",
    "        img_shape = image_orig.shape[0]*image_orig.shape[1]\n",
    "        image = self.attribute_parser(image_orig)\n",
    "\n",
    "        random.seed(self.seed)\n",
    "        ids = np.sort(random.sample(range(0, img_shape), k=self.n_clusters))\n",
    "        cluster_centroids = image[ids]\n",
    "\n",
    "        while(len(np.unique(cluster_centroids, axis=0)) != len(cluster_centroids)): # This was added to make sure there was not any repeated cluster centroid\n",
    "            ids = np.sort(random.sample(range(0, img_shape), k=self.n_clusters))\n",
    "            cluster_centroids = image[ids]\n",
    "\n",
    "        for _ in range(self.n_iterations):\n",
    "\n",
    "            distance_vec = np.sqrt(((image - cluster_centroids[:, np.newaxis])**2).sum(axis=2))\n",
    "            closest_clusters = np.argmin(distance_vec, axis=0)\n",
    "            cluster_centroids = np.nan_to_num(np.array([image[closest_clusters==k].mean(axis=0) for k in range(self.n_clusters)]))\n",
    "            #print(np.unique(closest_clusters, return_counts=True))\n",
    "\n",
    "        return self.normalization(closest_clusters.reshape(image_orig.shape[0],image_orig.shape[1]))\n",
    "\n",
    "\n",
    "    def normalization(self, image):\n",
    "        min_ = np.min(image)\n",
    "        max_ = np.max(image)\n",
    "        quantized_image = 255*(((image - min_)/(max_ - min_)))\n",
    "        return quantized_image"
   ]
  },
  {
   "cell_type": "code",
   "execution_count": 455,
   "metadata": {},
   "outputs": [],
   "source": [
    "# Function that calculates how far the images are from the testing set    \n",
    "\n",
    "def RMSE(image1, image2):\n",
    "    image1 = image1.astype(float)\n",
    "    image2 = image2.astype(float)\n",
    "    return np.float(np.sqrt(((image1 - image2)**2).mean()))\n",
    "\n",
    "# A simple function for visualization\n",
    "def comparing_images(image1, image2):\n",
    "    _ = plt.figure(figsize=(5,5))\n",
    "    _ = plt.subplot(1,2,1)\n",
    "    _ = plt.imshow(image1)\n",
    "    _ = plt.subplot(1,2,2)\n",
    "    _ = plt.imshow(image2)\n",
    "    plt.show()"
   ]
  },
  {
   "cell_type": "code",
   "execution_count": 360,
   "metadata": {},
   "outputs": [
    {
     "data": {
      "image/png": "[encoded data removed]",
      "text/plain": [
       "<Figure size 576x576 with 1 Axes>"
      ]
     },
     "metadata": {
      "needs_background": "light"
     },
     "output_type": "display_data"
    }
   ],
   "source": [
    "img_teste = imageio.imread(\"test_image.png\")\n",
    "plt.figure(figsize=(8,8))\n",
    "_ = plt.imshow(img_teste)"
   ]
  },
  {
   "cell_type": "code",
   "execution_count": 384,
   "metadata": {},
   "outputs": [],
   "source": [
    "def closest_centroid(matrix,centroids):\n",
    "    \"\"\"returns an array containing the index to the nearest centroid for each point\"\"\"\n",
    "    distances = np.sqrt(((matrix - centroids[:, np.newaxis])**2).sum(axis=2))\n",
    "    return np.argmin(distances, axis=0)\n",
    "\n",
    "def move_centroids(points, closest, centroids):\n",
    "    \"\"\"returns the new centroids assigned from the points closest to them\"\"\"\n",
    "    return np.array([points[closest==k].mean(axis=0) for k in range(centroids.shape[0])])"
   ]
  },
  {
   "cell_type": "code",
   "execution_count": 362,
   "metadata": {},
   "outputs": [
    {
     "data": {
      "text/plain": [
       "(9216, 3)"
      ]
     },
     "execution_count": 362,
     "metadata": {},
     "output_type": "execute_result"
    }
   ],
   "source": [
    "RGB = np.array(img_teste).reshape(96*96,3)\n",
    "RGB.shape"
   ]
  },
  {
   "cell_type": "code",
   "execution_count": 446,
   "metadata": {},
   "outputs": [
    {
     "data": {
      "text/plain": [
       "array([[232, 137, 211],\n",
       "       [210, 212, 210],\n",
       "       [121, 192,  78],\n",
       "       [247, 249, 247],\n",
       "       [181,  65, 156]], dtype=uint8)"
      ]
     },
     "execution_count": 446,
     "metadata": {},
     "output_type": "execute_result"
    }
   ],
   "source": [
    "random.seed(10)\n",
    "\n",
    "ids = np.sort(random.sample(range(0, 9216), k=5))\n",
    "cluster_centroids = RGB[ids]\n",
    "\n",
    "while(len(np.unique(cluster_centroids, axis=0)) != len(cluster_centroids)):\n",
    "    ids = np.sort(random.sample(range(0, 9216), k=5))\n",
    "    cluster_centroids = RGB[ids]\n",
    "\n",
    "cluster_centroids"
   ]
  },
  {
   "cell_type": "code",
   "execution_count": 411,
   "metadata": {},
   "outputs": [
    {
     "data": {
      "text/plain": [
       "array([[232.        , 137.        , 211.        ],\n",
       "       [176.56326531, 215.13469388, 233.51020408],\n",
       "       [189.72308612, 214.05293062, 104.66866029],\n",
       "       [247.        , 249.        , 247.        ],\n",
       "       [181.        ,  65.        , 156.        ]])"
      ]
     },
     "execution_count": 411,
     "metadata": {},
     "output_type": "execute_result"
    }
   ],
   "source": [
    "move_centroids(RGB, closest_centroid(RGB, cluster_centroids), cluster_centroids)"
   ]
  },
  {
   "cell_type": "code",
   "execution_count": 472,
   "metadata": {},
   "outputs": [
    {
     "data": {
      "text/plain": [
       "(array([  0. ,  42.5,  85. , 127.5, 170. , 212.5, 255. ]),\n",
       " array([ 896,  819, 1715,  740, 2700, 1629,  717], dtype=int64))"
      ]
     },
     "execution_count": 472,
     "metadata": {},
     "output_type": "execute_result"
    }
   ],
   "source": [
    "img_gen = fourth_assignment(\"test_image.png\", 1, 7, 12, 42)()\n",
    "np.unique(img_gen, return_counts=True)"
   ]
  },
  {
   "cell_type": "code",
   "execution_count": 473,
   "metadata": {},
   "outputs": [
    {
     "data": {
      "image/png": "[encoded data removed]",
      "text/plain": [
       "<Figure size 360x360 with 2 Axes>"
      ]
     },
     "metadata": {
      "needs_background": "light"
     },
     "output_type": "display_data"
    }
   ],
   "source": [
    "comparing_images(img_teste, img_gen)"
   ]
  }
 ],
 "metadata": {
  "kernelspec": {
   "display_name": "Image Class Kernel",
   "language": "python",
   "name": "image_class"
  },
  "language_info": {
   "codemirror_mode": {
    "name": "ipython",
    "version": 3
   },
   "file_extension": ".py",
   "mimetype": "text/x-python",
   "name": "python",
   "nbconvert_exporter": "python",
   "pygments_lexer": "ipython3",
   "version": "3.7.2"
  }
 },
 "nbformat": 4,
 "nbformat_minor": 2
}
